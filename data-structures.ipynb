{
 "cells": [
  {
   "cell_type": "markdown",
   "metadata": {},
   "source": [
    "# Data Structures in Python\n"
   ]
  },
  {
   "cell_type": "markdown",
   "metadata": {},
   "source": [
    "#### This is meant to be interview preparation involving data structures in Python."
   ]
  },
  {
   "cell_type": "markdown",
   "metadata": {},
   "source": [
    "##### Dictionaries/Maps\n",
    "Big O - O(1) for lookup "
   ]
  },
  {
   "cell_type": "code",
   "execution_count": null,
   "metadata": {},
   "outputs": [],
   "source": [
    "phonebook = {\n",
    "    \"bob\": 1,\n",
    "    \"jill\": 2,\n",
    "    \"pete\": 3\n",
    "}\n",
    "\n",
    "squares = {x: x * x for x in range(6)}"
   ]
  },
  {
   "cell_type": "markdown",
   "metadata": {},
   "source": [
    "To get an entry in a dictionary:"
   ]
  },
  {
   "cell_type": "code",
   "execution_count": null,
   "metadata": {},
   "outputs": [
    {
     "name": "stdout",
     "output_type": "stream",
     "text": [
      "1\n"
     ]
    }
   ],
   "source": [
    "print(phonebook[\"bob\"])"
   ]
  },
  {
   "cell_type": "markdown",
   "metadata": {},
   "source": [
    "To add an entry to a dictionary:"
   ]
  },
  {
   "cell_type": "code",
   "execution_count": null,
   "metadata": {},
   "outputs": [
    {
     "name": "stdout",
     "output_type": "stream",
     "text": [
      "4\n"
     ]
    }
   ],
   "source": [
    "phonebook[\"kathy\"] = 4\n",
    "print(phonebook[\"kathy\"])"
   ]
  },
  {
   "cell_type": "markdown",
   "metadata": {},
   "source": [
    "To remove an entry from a dictionary:"
   ]
  },
  {
   "cell_type": "code",
   "execution_count": null,
   "metadata": {},
   "outputs": [
    {
     "name": "stdout",
     "output_type": "stream",
     "text": [
      "{'bob': 1, 'jill': 2, 'pete': 3, 'kathy': 4}\n"
     ]
    }
   ],
   "source": [
    "phonebook.pop(\"test\", None) # Throws KeyError if not found. NEED the None at the end\n",
    "print(phonebook)"
   ]
  },
  {
   "cell_type": "markdown",
   "metadata": {},
   "source": [
    "##### Lists/Arrays/Tuples\n",
    "\n",
    "Tuples are immutable, lists are mutable.\n",
    "Tuples are used for multiple asimilar items, lists are used for multiple similar items\n",
    "\n",
    "Big O - O(n)"
   ]
  },
  {
   "cell_type": "code",
   "execution_count": null,
   "metadata": {},
   "outputs": [],
   "source": [
    "user_credentials = [ # A list of tuples\n",
    "    ('name', 'username', 'password'),\n",
    "    ('jason', 'jsnasm', 'pword123'),\n",
    "    ('mark', 'titus', 'tituspassword1'),\n",
    "    ('tate', 'frazier', 'tatef455')\n",
    "]"
   ]
  },
  {
   "cell_type": "markdown",
   "metadata": {},
   "source": [
    "To remove an entry by value:"
   ]
  },
  {
   "cell_type": "code",
   "execution_count": null,
   "metadata": {},
   "outputs": [
    {
     "name": "stdout",
     "output_type": "stream",
     "text": [
      "Could not find the key\n",
      "[('jason', 'jsnasm', 'pword123'), ('mark', 'titus', 'tituspassword1'), ('tate', 'frazier', 'tatef455')]\n"
     ]
    }
   ],
   "source": [
    "\n",
    "try:\n",
    "    user_credentials.remove(('nafdme', 'username', 'password')) # Throws ValueError if not found\n",
    "except ValueError:\n",
    "    print(\"Could not find the key\")\n",
    "    \n",
    "user_credentials.remove(('name', 'username', 'password'))\n",
    "    \n",
    "print(user_credentials)"
   ]
  },
  {
   "cell_type": "markdown",
   "metadata": {},
   "source": [
    "To remove an entry by index:"
   ]
  },
  {
   "cell_type": "code",
   "execution_count": null,
   "metadata": {},
   "outputs": [
    {
     "name": "stdout",
     "output_type": "stream",
     "text": [
      "[('mark', 'titus', 'tituspassword1'), ('tate', 'frazier', 'tatef455')]\n"
     ]
    }
   ],
   "source": [
    "user_credentials.pop(0)\n",
    "\n",
    "print(user_credentials)"
   ]
  },
  {
   "cell_type": "markdown",
   "metadata": {},
   "source": [
    "##### Sets\n",
    "\n",
    "A set in Python is an immutable tuple that cannot be edited & does not allow duplicate entries."
   ]
  },
  {
   "cell_type": "code",
   "execution_count": null,
   "metadata": {},
   "outputs": [],
   "source": [
    "emptySet = set()\n",
    "emptySet.add('entry0')"
   ]
  },
  {
   "cell_type": "markdown",
   "metadata": {},
   "source": [
    "To check if an element is in the set:"
   ]
  },
  {
   "cell_type": "code",
   "execution_count": 3,
   "metadata": {},
   "outputs": [
    {
     "name": "stdout",
     "output_type": "stream",
     "text": [
      "yes\n"
     ]
    }
   ],
   "source": [
    "genericSet = {'entry1', 'entry2', 'entry3'}\n",
    "if 'entry1' in genericSet:\n",
    "  print('yes')"
   ]
  },
  {
   "cell_type": "code",
   "execution_count": 1,
   "metadata": {},
   "outputs": [
    {
     "name": "stdout",
     "output_type": "stream",
     "text": [
      "{0: [], 1: [], 2: [], 3: [], 4: []}\n"
     ]
    }
   ],
   "source": [
    "print({i:[] for i in range(5)})"
   ]
  },
  {
   "cell_type": "markdown",
   "metadata": {},
   "source": [
    "##### Graphs\n",
    "\n",
    "a Queue is usually used for BFS. collections.deque() initializes a queue"
   ]
  },
  {
   "cell_type": "markdown",
   "metadata": {},
   "source": [
    "##### Other Utility functions"
   ]
  },
  {
   "cell_type": "code",
   "execution_count": null,
   "metadata": {},
   "outputs": [],
   "source": [
    "max(0, 3) # get maximum value\n",
    "min(0, 2) # get minimum value"
   ]
  },
  {
   "cell_type": "markdown",
   "metadata": {},
   "source": [
    "Use `enumerate()` to get the index and item in a for loop."
   ]
  },
  {
   "cell_type": "code",
   "execution_count": null,
   "metadata": {},
   "outputs": [],
   "source": [
    "str_obj = \"Hello, world!\"\n",
    "for index, character in enumerate(str_obj):\n",
    "  print(f\"At index {index}, there is the character {character}\")"
   ]
  },
  {
   "cell_type": "markdown",
   "metadata": {},
   "source": [
    "You can pass in the values of `float('-inf')` and `float('inf')` to represent infinity."
   ]
  },
  {
   "cell_type": "markdown",
   "metadata": {},
   "source": [
    "Usually, when the problem mentions the concept of FIFO, then you can use a queue by calling `collections.deque()` or create a linked list."
   ]
  }
 ],
 "metadata": {
  "interpreter": {
   "hash": "257c42f0b0a7583729bbbb5f0643fcbf57a72a23be3a091b381722747b5e24b9"
  },
  "kernelspec": {
   "display_name": "Python 3.9.11 64-bit (windows store)",
   "language": "python",
   "name": "python3"
  },
  "language_info": {
   "codemirror_mode": {
    "name": "ipython",
    "version": 3
   },
   "file_extension": ".py",
   "mimetype": "text/x-python",
   "name": "python",
   "nbconvert_exporter": "python",
   "pygments_lexer": "ipython3",
   "version": "3.7.3"
  },
  "orig_nbformat": 4
 },
 "nbformat": 4,
 "nbformat_minor": 2
}
